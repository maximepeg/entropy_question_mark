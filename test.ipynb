{
 "cells": [
  {
   "cell_type": "code",
   "execution_count": null,
   "id": "b9133de1c535221f",
   "metadata": {
    "ExecuteTime": {
     "end_time": "2024-06-15T20:28:26.958020Z",
     "start_time": "2024-06-15T20:28:26.949472Z"
    }
   },
   "outputs": [],
   "source": [
    "import pytorch_lightning as pl\n",
    "import pandas as pd\n",
    "from tqdm import tqdm\n",
    "import plotly.express as px\n",
    "import plotly.graph_objects as go\n",
    "import numpy as np\n",
    "import torch\n",
    "import torch.nn as nn\n",
    "import torch.nn.functional as F\n",
    "from torch.nn.modules.module import T\n",
    "from torch.utils.data import DataLoader\n",
    "from torchvision import transforms\n",
    "from torchvision.datasets import MNIST\n",
    "from sklearn.feature_selection import mutual_info_classif\n",
    "pl.seed_everything(42)\n",
    "device = 'gpu' if torch.cuda.is_available() else 'cpu'\n"
   ]
  },
  {
   "cell_type": "code",
   "execution_count": null,
   "id": "d94878d8662fc129",
   "metadata": {
    "ExecuteTime": {
     "end_time": "2024-06-15T21:35:40.190074Z",
     "start_time": "2024-06-15T21:35:40.179321Z"
    }
   },
   "outputs": [],
   "source": [
    "class Teacher(pl.LightningModule):\n",
    "    def __init__(self):\n",
    "        super().__init__()\n",
    "        self.layer_1 = nn.Linear(28*28, 1200)\n",
    "        self.layer_2 = nn.Linear(1200, 1200)\n",
    "        self.layer_3 = nn.Linear(1200, 10)\n",
    "        self.softmax = nn.Softmax(dim=1)\n",
    "        self.dropout = nn.Dropout(0.5)\n",
    "        self.criterion = nn.CrossEntropyLoss()\n",
    "        self.optimizer = torch.optim.Adam(self.parameters(), lr=1e-3)\n",
    "        self.save_hyperparameters()\n",
    "        self.hooks = {}\n",
    "    def forward(self, x):\n",
    "        x = self.layer_1(x)\n",
    "        x = self.dropout(x)\n",
    "        x = F.relu(x)\n",
    "        x = self.layer_2(x)\n",
    "        x = self.dropout(x)\n",
    "        x = F.relu(x)\n",
    "        x = self.layer_3(x)\n",
    "        x = self.softmax(x)\n",
    "        return x\n",
    "    def training_step(self, batch, batch_idx):\n",
    "        x, y = batch\n",
    "        y_hat = self.forward(x)\n",
    "        loss = self.criterion(y_hat, y)\n",
    "        self.log('train_loss', loss)\n",
    "        return loss\n",
    "    \n",
    "    def validation_step(self, batch, batch_idx):\n",
    "        x, y = batch\n",
    "        y_hat = self.forward(x)\n",
    "        loss = self.criterion(y_hat, y)\n",
    "        self.log('val_loss', loss)\n",
    "        return loss\n",
    "    def evaluate(self, batch, stage=None):\n",
    "        x, y = batch\n",
    "        y_hat = self.forward(x)\n",
    "        loss = self.criterion(y_hat, y)\n",
    "        self.log(f'{stage}_loss', loss)\n",
    "        return loss\n",
    "    def configure_optimizers(self):\n",
    "        optimizer = torch.optim.Adam(self.parameters(), lr=1e-3)\n",
    "        return optimizer\n",
    "    \n",
    "        "
   ]
  },
  {
   "cell_type": "code",
   "execution_count": null,
   "id": "f6e92f52373f7301",
   "metadata": {
    "ExecuteTime": {
     "end_time": "2024-06-15T21:35:41.500783Z",
     "start_time": "2024-06-15T21:35:41.356620Z"
    }
   },
   "outputs": [],
   "source": [
    "transform = transforms.Compose(\n",
    "    [transforms.ToTensor(),\n",
    "     transforms.Lambda(lambda x: torch.flatten(x))]\n",
    ")\n",
    "dataset = MNIST(root='./data', train=True, transform=transform)\n",
    "val_dataset = MNIST(root='./data', train=False, transform=transform)"
   ]
  },
  {
   "cell_type": "code",
   "execution_count": null,
   "id": "e049e9a4eed8bf5d",
   "metadata": {
    "ExecuteTime": {
     "end_time": "2024-06-15T21:36:53.445881Z",
     "start_time": "2024-06-15T21:35:42.130466Z"
    }
   },
   "outputs": [],
   "source": [
    "train_loader = DataLoader(dataset, batch_size=320, num_workers=4)\n",
    "val_loader = DataLoader(val_dataset, batch_size=320, num_workers=4)\n",
    "teacher = Teacher()\n",
    "trainer = pl.Trainer(accelerator=device, max_epochs=30)\n",
    "trainer.fit(teacher, train_loader, val_loader)"
   ]
  },
  {
   "cell_type": "code",
   "execution_count": null,
   "id": "26e37275466b2b65",
   "metadata": {
    "ExecuteTime": {
     "end_time": "2024-06-15T21:36:53.688891Z",
     "start_time": "2024-06-15T21:36:53.447627Z"
    }
   },
   "outputs": [],
   "source": [
    "activations = {}\n",
    "def get_activation(name):\n",
    "    def hook(model, input, output):\n",
    "        activations[name] = output.detach()\n",
    "    return hook\n",
    "\n",
    "\n",
    "for name, module in teacher.named_modules():\n",
    "    module.register_forward_hook(get_activation(name))\n",
    "\n",
    "single_batch = next(iter(train_loader))\n",
    "teacher.eval()\n",
    "teacher(single_batch[0])"
   ]
  },
  {
   "cell_type": "code",
   "execution_count": null,
   "id": "6437651ff8a734e0",
   "metadata": {
    "ExecuteTime": {
     "end_time": "2024-06-15T21:38:04.167773Z",
     "start_time": "2024-06-15T21:36:53.690385Z"
    }
   },
   "outputs": [],
   "source": [
    "labels = single_batch[1]\n",
    "labels = nn.functional.one_hot(labels, num_classes=10)\n",
    "labels = labels.float()\n",
    "information_per_neuron = pd.DataFrame()\n",
    "for layer in tqdm(activations.keys()):\n",
    "    layer_activations = activations[layer]\n",
    "    for label in tqdm(range(10)):\n",
    "        information = mutual_info_classif(layer_activations, labels[:, label])\n",
    "        information_per_neuron = pd.concat([information_per_neuron, pd.DataFrame(information, columns=[f'{layer if layer is not \"\" else \"out\"}|label_{label}'])], axis=1)"
   ]
  },
  {
   "cell_type": "code",
   "execution_count": null,
   "id": "3cb36856ae42b8d7",
   "metadata": {
    "ExecuteTime": {
     "end_time": "2024-06-15T21:38:04.286422Z",
     "start_time": "2024-06-15T21:38:04.169324Z"
    }
   },
   "outputs": [],
   "source": [
    "df = information_per_neuron.melt()\n",
    "df[[\"layer\", \"label\"]] = df.variable.str.split('|', expand=True)\n",
    "df.drop('variable', axis=1, inplace=True)\n",
    "df.rename(columns={'value': 'information'}, inplace=True)\n",
    "df = df[['layer', 'label', 'information']]\n",
    "df.dropna(inplace=True)"
   ]
  },
  {
   "cell_type": "code",
   "execution_count": null,
   "id": "1518adbed35723eb",
   "metadata": {
    "ExecuteTime": {
     "end_time": "2024-06-15T21:38:04.299028Z",
     "start_time": "2024-06-15T21:38:04.287704Z"
    }
   },
   "outputs": [],
   "source": [
    "df.round(2)"
   ]
  },
  {
   "cell_type": "code",
   "execution_count": null,
   "id": "c5a72a4e2aff4960",
   "metadata": {
    "ExecuteTime": {
     "end_time": "2024-06-15T21:30:43.635292Z",
     "start_time": "2024-06-15T21:30:43.556077Z"
    }
   },
   "outputs": [],
   "source": [
    "px.line(df.round(2).groupby('layer')[\"information\"].value_counts().sort_index().reset_index(),x='information', y='count', color='layer', title='Information per neuron per layer')"
   ]
  },
  {
   "cell_type": "code",
   "execution_count": null,
   "id": "b1eff61f54b3d5f7",
   "metadata": {
    "ExecuteTime": {
     "end_time": "2024-06-15T21:32:18.364737Z",
     "start_time": "2024-06-15T21:32:18.271291Z"
    }
   },
   "outputs": [],
   "source": [
    "px.line((df.round(2).groupby('layer')[\"information\"].value_counts() / df.layer.value_counts()).sort_index().reset_index(), x=\"information\", y=\"count\", color=\"layer\", title=\"Information per neuron per layer\")"
   ]
  },
  {
   "cell_type": "code",
   "execution_count": null,
   "id": "7a8ba3eebd03ac2e",
   "metadata": {
    "ExecuteTime": {
     "end_time": "2024-06-15T21:31:29.120969Z",
     "start_time": "2024-06-15T21:31:29.114110Z"
    }
   },
   "outputs": [],
   "source": []
  },
  {
   "cell_type": "code",
   "execution_count": null,
   "id": "a97af5f807cf77a8",
   "metadata": {},
   "outputs": [],
   "source": []
  }
 ],
 "metadata": {
  "kernelspec": {
   "display_name": "Python 3",
   "language": "python",
   "name": "python3"
  },
  "language_info": {
   "codemirror_mode": {
    "name": "ipython",
    "version": 2
   },
   "file_extension": ".py",
   "mimetype": "text/x-python",
   "name": "python",
   "nbconvert_exporter": "python",
   "pygments_lexer": "ipython2",
   "version": "2.7.6"
  }
 },
 "nbformat": 4,
 "nbformat_minor": 5
}
